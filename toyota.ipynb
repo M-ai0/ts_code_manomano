{
 "cells": [
  {
   "cell_type": "code",
   "execution_count": 1,
   "metadata": {},
   "outputs": [],
   "source": [
    "import numpy as np\n",
    "import pandas as pd\n",
    "import matplotlib.pyplot as plt\n",
    "import seaborn as sns\n",
    "%matplotlib inline\n",
    "from sklearn.preprocessing import OneHotEncoder"
   ]
  },
  {
   "cell_type": "markdown",
   "metadata": {},
   "source": [
    "仮データフレームの作成"
   ]
  },
  {
   "cell_type": "code",
   "execution_count": 113,
   "metadata": {},
   "outputs": [],
   "source": [
    "df_users = range(1, 100)\n",
    "df_users= pd.DataFrame(df_users, columns=['sample_id'])\n",
    "df_users['family'] = np.random.randint(1, 10, df_users.shape[0])\n",
    "df_users['age'] = np.random.randint(0, 10, df_users.shape[0])"
   ]
  },
  {
   "cell_type": "code",
   "execution_count": 114,
   "metadata": {},
   "outputs": [],
   "source": [
    "df_posses = range(1, 100)\n",
    "df_posses = pd.DataFrame(df_posses, columns=['sample_id'])\n",
    "df_posses['maker_name'] = ['maker_' + str(i) for i in np.random.randint(1, 10, df_posses.shape[0])]\n",
    "df_posses[\"year\"] = np.random.randint(0, 10, df_posses.shape[0])\n",
    "# ランダムな数字を2つ生成し、それぞれの数字を文字列に変換して結合\n",
    "df_posses[\"bodytype_subtype\"] = ['body' + str(i) + '_' + 'sub' + str(j) for i, j in zip(np.random.randint(1, 4, df_posses.shape[0]), np.random.randint(1, 8, df_posses.shape[0]))]\n",
    "# df_posses[\"bodytype_subtype\"] = ['body' + str(i) for i in np.random.randint(1, 10, df_posses.shape[0]) + '_' + 'sub' + str(j) for j in np.random.randint(1, 10, df_posses.shape[0])]"
   ]
  },
  {
   "cell_type": "code",
   "execution_count": 116,
   "metadata": {},
   "outputs": [
    {
     "data": {
      "text/plain": [
       "0     body2_sub2\n",
       "1     body3_sub7\n",
       "2     body3_sub5\n",
       "3     body1_sub6\n",
       "4     body2_sub3\n",
       "         ...    \n",
       "94    body1_sub1\n",
       "95    body1_sub4\n",
       "96    body3_sub7\n",
       "97    body1_sub3\n",
       "98    body1_sub4\n",
       "Name: bodytype_subtype, Length: 99, dtype: object"
      ]
     },
     "execution_count": 116,
     "metadata": {},
     "output_type": "execute_result"
    }
   ],
   "source": [
    "df_posses[\"bodytype_subtype\"]"
   ]
  },
  {
   "cell_type": "markdown",
   "metadata": {},
   "source": [
    "前保有車は今は使わない"
   ]
  },
  {
   "cell_type": "code",
   "execution_count": 52,
   "metadata": {},
   "outputs": [],
   "source": [
    "df_previous = range(1, 100)\n",
    "df_previous = pd.DataFrame(df_previous, columns=['sample_id'])\n",
    "df_previous['maker_name'] = ['maker_' + str(i) for i in np.random.randint(1, 10, df_previous.shape[0])]\n",
    "df_previous[\"year\"] = np.random.randint(0, 10, df_previous.shape[0])"
   ]
  },
  {
   "cell_type": "code",
   "execution_count": 53,
   "metadata": {},
   "outputs": [],
   "source": [
    "df_expect = range(1, 100)\n",
    "df_expect = pd.DataFrame(df_expect, columns=['sample_id'])\n",
    "df_expect['importance.1'] = [int(i) for i in np.random.randint(1, 10, df_previous.shape[0])]\n",
    "df_expect['importance.2'] = [int(i) for i in np.random.randint(1, 10, df_previous.shape[0])]\n",
    "df_expect['importance.3'] = [int(i) for i in np.random.randint(1, 10, df_previous.shape[0])]\n",
    "df_expect['importance.4'] = [int(i) for i in np.random.randint(1, 10, df_previous.shape[0])]"
   ]
  },
  {
   "cell_type": "code",
   "execution_count": 54,
   "metadata": {},
   "outputs": [],
   "source": [
    "df_think = range(1, 100)\n",
    "df_think = pd.DataFrame(df_think, columns=['sample_id'])\n",
    "df_think['Q.1'] = [int(i) for i in np.random.randint(1, 10, df_previous.shape[0])]\n",
    "df_think['Q.2'] = [int(i) for i in np.random.randint(1, 10, df_previous.shape[0])]\n",
    "df_think['Q.3'] = [int(i) for i in np.random.randint(1, 10, df_previous.shape[0])]\n",
    "df_think['Q.4'] = [int(i) for i in np.random.randint(1, 10, df_previous.shape[0])]"
   ]
  },
  {
   "cell_type": "code",
   "execution_count": 94,
   "metadata": {},
   "outputs": [],
   "source": [
    "df1 = pd.merge(df_users, df_posses, on='sample_id')"
   ]
  },
  {
   "cell_type": "code",
   "execution_count": 95,
   "metadata": {},
   "outputs": [],
   "source": [
    "df2 = pd.merge(df1, df_expect, on='sample_id')"
   ]
  },
  {
   "cell_type": "code",
   "execution_count": 96,
   "metadata": {},
   "outputs": [],
   "source": [
    "df3 = pd.merge(df2, df_think, on='sample_id')"
   ]
  },
  {
   "cell_type": "markdown",
   "metadata": {},
   "source": [
    "2016年以前に購入したユーザーに絞り込む"
   ]
  },
  {
   "cell_type": "code",
   "execution_count": 97,
   "metadata": {},
   "outputs": [],
   "source": [
    "before2016 = df3[df3['year'] >5]"
   ]
  },
  {
   "cell_type": "markdown",
   "metadata": {},
   "source": [
    "さらに、現保有車がトヨタではないユーザーに絞り込む"
   ]
  },
  {
   "cell_type": "code",
   "execution_count": 98,
   "metadata": {},
   "outputs": [],
   "source": [
    "before2016_not_toyota = before2016[before2016['maker_name'] != 'maker_1']"
   ]
  },
  {
   "cell_type": "markdown",
   "metadata": {},
   "source": [
    "メーカーごとに何を重視して購入したかを計算する"
   ]
  },
  {
   "cell_type": "code",
   "execution_count": 99,
   "metadata": {},
   "outputs": [],
   "source": [
    "maker_importance = before2016_not_toyota[['maker_name', 'importance.1', 'importance.2', 'importance.3', 'importance.4']]"
   ]
  },
  {
   "cell_type": "code",
   "execution_count": 100,
   "metadata": {},
   "outputs": [
    {
     "data": {
      "text/html": [
       "<div>\n",
       "<style scoped>\n",
       "    .dataframe tbody tr th:only-of-type {\n",
       "        vertical-align: middle;\n",
       "    }\n",
       "\n",
       "    .dataframe tbody tr th {\n",
       "        vertical-align: top;\n",
       "    }\n",
       "\n",
       "    .dataframe thead th {\n",
       "        text-align: right;\n",
       "    }\n",
       "</style>\n",
       "<table border=\"1\" class=\"dataframe\">\n",
       "  <thead>\n",
       "    <tr style=\"text-align: right;\">\n",
       "      <th></th>\n",
       "      <th>importance.1</th>\n",
       "      <th>importance.2</th>\n",
       "      <th>importance.3</th>\n",
       "      <th>importance.4</th>\n",
       "    </tr>\n",
       "    <tr>\n",
       "      <th>maker_name</th>\n",
       "      <th></th>\n",
       "      <th></th>\n",
       "      <th></th>\n",
       "      <th></th>\n",
       "    </tr>\n",
       "  </thead>\n",
       "  <tbody>\n",
       "    <tr>\n",
       "      <th>maker_2</th>\n",
       "      <td>22</td>\n",
       "      <td>22</td>\n",
       "      <td>26</td>\n",
       "      <td>20</td>\n",
       "    </tr>\n",
       "    <tr>\n",
       "      <th>maker_3</th>\n",
       "      <td>13</td>\n",
       "      <td>11</td>\n",
       "      <td>13</td>\n",
       "      <td>13</td>\n",
       "    </tr>\n",
       "    <tr>\n",
       "      <th>maker_4</th>\n",
       "      <td>31</td>\n",
       "      <td>48</td>\n",
       "      <td>26</td>\n",
       "      <td>20</td>\n",
       "    </tr>\n",
       "    <tr>\n",
       "      <th>maker_5</th>\n",
       "      <td>17</td>\n",
       "      <td>11</td>\n",
       "      <td>10</td>\n",
       "      <td>12</td>\n",
       "    </tr>\n",
       "    <tr>\n",
       "      <th>maker_6</th>\n",
       "      <td>13</td>\n",
       "      <td>24</td>\n",
       "      <td>19</td>\n",
       "      <td>19</td>\n",
       "    </tr>\n",
       "    <tr>\n",
       "      <th>maker_7</th>\n",
       "      <td>29</td>\n",
       "      <td>22</td>\n",
       "      <td>27</td>\n",
       "      <td>25</td>\n",
       "    </tr>\n",
       "    <tr>\n",
       "      <th>maker_8</th>\n",
       "      <td>43</td>\n",
       "      <td>24</td>\n",
       "      <td>51</td>\n",
       "      <td>50</td>\n",
       "    </tr>\n",
       "    <tr>\n",
       "      <th>maker_9</th>\n",
       "      <td>15</td>\n",
       "      <td>15</td>\n",
       "      <td>23</td>\n",
       "      <td>13</td>\n",
       "    </tr>\n",
       "  </tbody>\n",
       "</table>\n",
       "</div>"
      ],
      "text/plain": [
       "            importance.1  importance.2  importance.3  importance.4\n",
       "maker_name                                                        \n",
       "maker_2               22            22            26            20\n",
       "maker_3               13            11            13            13\n",
       "maker_4               31            48            26            20\n",
       "maker_5               17            11            10            12\n",
       "maker_6               13            24            19            19\n",
       "maker_7               29            22            27            25\n",
       "maker_8               43            24            51            50\n",
       "maker_9               15            15            23            13"
      ]
     },
     "execution_count": 100,
     "metadata": {},
     "output_type": "execute_result"
    }
   ],
   "source": [
    "maker_importance.groupby('maker_name').sum()"
   ]
  },
  {
   "cell_type": "markdown",
   "metadata": {},
   "source": [
    "車に対する質問で有効そうな質問を抜き出し、それぞれ合計値を出す"
   ]
  },
  {
   "cell_type": "code",
   "execution_count": 101,
   "metadata": {},
   "outputs": [],
   "source": [
    "maker_think_Q1 = before2016_not_toyota[['maker_name', 'Q.1']]"
   ]
  },
  {
   "cell_type": "code",
   "execution_count": 102,
   "metadata": {},
   "outputs": [
    {
     "data": {
      "text/html": [
       "<div>\n",
       "<style scoped>\n",
       "    .dataframe tbody tr th:only-of-type {\n",
       "        vertical-align: middle;\n",
       "    }\n",
       "\n",
       "    .dataframe tbody tr th {\n",
       "        vertical-align: top;\n",
       "    }\n",
       "\n",
       "    .dataframe thead th {\n",
       "        text-align: right;\n",
       "    }\n",
       "</style>\n",
       "<table border=\"1\" class=\"dataframe\">\n",
       "  <thead>\n",
       "    <tr style=\"text-align: right;\">\n",
       "      <th></th>\n",
       "      <th>Q.1</th>\n",
       "    </tr>\n",
       "    <tr>\n",
       "      <th>maker_name</th>\n",
       "      <th></th>\n",
       "    </tr>\n",
       "  </thead>\n",
       "  <tbody>\n",
       "    <tr>\n",
       "      <th>maker_2</th>\n",
       "      <td>23</td>\n",
       "    </tr>\n",
       "    <tr>\n",
       "      <th>maker_3</th>\n",
       "      <td>6</td>\n",
       "    </tr>\n",
       "    <tr>\n",
       "      <th>maker_4</th>\n",
       "      <td>28</td>\n",
       "    </tr>\n",
       "    <tr>\n",
       "      <th>maker_5</th>\n",
       "      <td>14</td>\n",
       "    </tr>\n",
       "    <tr>\n",
       "      <th>maker_6</th>\n",
       "      <td>20</td>\n",
       "    </tr>\n",
       "    <tr>\n",
       "      <th>maker_7</th>\n",
       "      <td>27</td>\n",
       "    </tr>\n",
       "    <tr>\n",
       "      <th>maker_8</th>\n",
       "      <td>47</td>\n",
       "    </tr>\n",
       "    <tr>\n",
       "      <th>maker_9</th>\n",
       "      <td>11</td>\n",
       "    </tr>\n",
       "  </tbody>\n",
       "</table>\n",
       "</div>"
      ],
      "text/plain": [
       "            Q.1\n",
       "maker_name     \n",
       "maker_2      23\n",
       "maker_3       6\n",
       "maker_4      28\n",
       "maker_5      14\n",
       "maker_6      20\n",
       "maker_7      27\n",
       "maker_8      47\n",
       "maker_9      11"
      ]
     },
     "execution_count": 102,
     "metadata": {},
     "output_type": "execute_result"
    }
   ],
   "source": [
    "maker_think_Q1.groupby('maker_name').sum()"
   ]
  },
  {
   "cell_type": "code",
   "execution_count": 103,
   "metadata": {},
   "outputs": [],
   "source": [
    "maker_think_Q3 = before2016_not_toyota[['maker_name', 'Q.3']]"
   ]
  },
  {
   "cell_type": "code",
   "execution_count": 104,
   "metadata": {},
   "outputs": [
    {
     "data": {
      "text/html": [
       "<div>\n",
       "<style scoped>\n",
       "    .dataframe tbody tr th:only-of-type {\n",
       "        vertical-align: middle;\n",
       "    }\n",
       "\n",
       "    .dataframe tbody tr th {\n",
       "        vertical-align: top;\n",
       "    }\n",
       "\n",
       "    .dataframe thead th {\n",
       "        text-align: right;\n",
       "    }\n",
       "</style>\n",
       "<table border=\"1\" class=\"dataframe\">\n",
       "  <thead>\n",
       "    <tr style=\"text-align: right;\">\n",
       "      <th></th>\n",
       "      <th>Q.3</th>\n",
       "    </tr>\n",
       "    <tr>\n",
       "      <th>maker_name</th>\n",
       "      <th></th>\n",
       "    </tr>\n",
       "  </thead>\n",
       "  <tbody>\n",
       "    <tr>\n",
       "      <th>maker_2</th>\n",
       "      <td>11</td>\n",
       "    </tr>\n",
       "    <tr>\n",
       "      <th>maker_3</th>\n",
       "      <td>19</td>\n",
       "    </tr>\n",
       "    <tr>\n",
       "      <th>maker_4</th>\n",
       "      <td>30</td>\n",
       "    </tr>\n",
       "    <tr>\n",
       "      <th>maker_5</th>\n",
       "      <td>12</td>\n",
       "    </tr>\n",
       "    <tr>\n",
       "      <th>maker_6</th>\n",
       "      <td>12</td>\n",
       "    </tr>\n",
       "    <tr>\n",
       "      <th>maker_7</th>\n",
       "      <td>25</td>\n",
       "    </tr>\n",
       "    <tr>\n",
       "      <th>maker_8</th>\n",
       "      <td>36</td>\n",
       "    </tr>\n",
       "    <tr>\n",
       "      <th>maker_9</th>\n",
       "      <td>13</td>\n",
       "    </tr>\n",
       "  </tbody>\n",
       "</table>\n",
       "</div>"
      ],
      "text/plain": [
       "            Q.3\n",
       "maker_name     \n",
       "maker_2      11\n",
       "maker_3      19\n",
       "maker_4      30\n",
       "maker_5      12\n",
       "maker_6      12\n",
       "maker_7      25\n",
       "maker_8      36\n",
       "maker_9      13"
      ]
     },
     "execution_count": 104,
     "metadata": {},
     "output_type": "execute_result"
    }
   ],
   "source": [
    "maker_think_Q3.groupby('maker_name').sum()"
   ]
  },
  {
   "cell_type": "code",
   "execution_count": 106,
   "metadata": {},
   "outputs": [],
   "source": [
    "maker_family = before2016_not_toyota[['family', 'maker_name', 'bodytype_subtype']]"
   ]
  },
  {
   "cell_type": "markdown",
   "metadata": {},
   "source": [
    "年齢と年収の関係を散布図にする"
   ]
  },
  {
   "cell_type": "code",
   "execution_count": null,
   "metadata": {},
   "outputs": [],
   "source": [
    "# ここでageid（数字で書かれている）を文字列に変換→ 閲覧用資料に例がある\n",
    "df_users.plot.scatter(x='ageid', y='income_level')\n",
    "# それか　xlabels('ageid') = ['0-19', '20-29', '30-39', '40-49', '50-59', '60-69', '70-79', '80-89', '90-99']"
   ]
  },
  {
   "cell_type": "markdown",
   "metadata": {},
   "source": [
    "トヨタ車以外の国産車を2016年以前に買ったユーザーはどれくらいいるのか"
   ]
  },
  {
   "cell_type": "code",
   "execution_count": null,
   "metadata": {},
   "outputs": [],
   "source": [
    "all_number_before_2016 = df3[df3[''] >= ] \n",
    "#　前保有車を買った年のカラム名、2016年に対応する回答番号\n",
    "without_toyota_before_2016 = all_number_before_2016[all_number_before_2016['maker_name'] != 'トヨタ']"
   ]
  },
  {
   "cell_type": "markdown",
   "metadata": {},
   "source": [
    "家族構成で現在（2022年）段階で高校生の子供がいる→2024年では大学生で親元を離れる人が多い？\n",
    "当時小学生〜中学生の子供がいた想定"
   ]
  },
  {
   "cell_type": "code",
   "execution_count": null,
   "metadata": {},
   "outputs": [],
   "source": [
    "child_2022 = without_toyota_before_2016[without_toyota_before_2016['child'] >= ]\n",
    "# 子供の数のカラム名、高校生に対応する回答番号"
   ]
  },
  {
   "cell_type": "code",
   "execution_count": null,
   "metadata": {},
   "outputs": [],
   "source": [
    "# 子どもがいる人の割合\n",
    "child_2022['child'].value_counts().plot.pie(autopct='%1.1f%%')"
   ]
  },
  {
   "cell_type": "markdown",
   "metadata": {},
   "source": [
    "トヨタ以外、2016年以前に購入、子どもが今高校生の人が買った車のタイプ"
   ]
  },
  {
   "cell_type": "code",
   "execution_count": null,
   "metadata": {},
   "outputs": [],
   "source": [
    "bodysub_without_toyota_before_2016 = without_toyota_before_2016['bodytype_subtype'].value_counts()"
   ]
  },
  {
   "cell_type": "code",
   "execution_count": null,
   "metadata": {},
   "outputs": [],
   "source": [
    "body_without_toyota_before_2016 = without_toyota_before_2016['bodytype'].value_counts()\n",
    "sub_without_toyota_before_2016 = without_toyota_before_2016['subtype'].value_counts()"
   ]
  },
  {
   "cell_type": "markdown",
   "metadata": {},
   "source": [
    "彼らが当時その車を買った時に重視していたこと"
   ]
  },
  {
   "cell_type": "code",
   "execution_count": null,
   "metadata": {},
   "outputs": [],
   "source": [
    "importance_without_toyota_before_2016 = without_toyota_before_2016[]\n",
    "# for構文ですでに作った型に当てはめる"
   ]
  },
  {
   "cell_type": "markdown",
   "metadata": {},
   "source": [
    "40代に絞って車に対する考え方（価値観がわかるところ）をグラフ化"
   ]
  },
  {
   "cell_type": "code",
   "execution_count": null,
   "metadata": {},
   "outputs": [],
   "source": [
    "forties_without_toyota_before_2016 = without_toyota_before_2016[without_toyota_before_2016['ageid'] == ]\n",
    "# 年代のカラム名、40代に対応する回答番号"
   ]
  },
  {
   "cell_type": "code",
   "execution_count": null,
   "metadata": {},
   "outputs": [],
   "source": [
    "forties_importance_without_toyota_before_2016 = forties_without_toyota_before_2016.filter(like='importance', axis=1)\n",
    "# 40代の人が当時トヨタ以外を買った時に重視した点（MA）"
   ]
  },
  {
   "cell_type": "code",
   "execution_count": null,
   "metadata": {},
   "outputs": [],
   "source": [
    "forties_importance_without_toyota_before_2016.sum().plot.bar()\n",
    "#40代の人が当時トヨタ以外を買った時に重視した点（MA）の合計"
   ]
  },
  {
   "cell_type": "markdown",
   "metadata": {},
   "source": [
    "50代も見てみる"
   ]
  },
  {
   "cell_type": "code",
   "execution_count": null,
   "metadata": {},
   "outputs": [],
   "source": [
    "fifties_without_toyota_before_2016 = without_toyota_before_2016[without_toyota_before_2016['ageid'] == ]\n",
    "# 年代のカラム名、50代に対応する回答番号\n",
    "fifties_importance_without_toyota_before_2016 = fifties_without_toyota_before_2016.filter(like='importance', axis=1)\n",
    "# 50代の人が当時トヨタ以外を買った時に重視した点（MA）\n",
    "fifties_importance_without_toyota_before_2016.sum().plot.bar()\n",
    "# 50代の人が当時トヨタ以外を買った時に重視した点（MA）の合計"
   ]
  },
  {
   "cell_type": "markdown",
   "metadata": {},
   "source": [
    "60代も見てみる"
   ]
  },
  {
   "cell_type": "code",
   "execution_count": null,
   "metadata": {},
   "outputs": [],
   "source": [
    "sixties_without_toyota_before_2016 = without_toyota_before_2016[without_toyota_before_2016['ageid'] == ]\n",
    "# 年代のカラム名、60代に対応する回答番号\n",
    "sixties_importance_without_toyota_before_2016 = sixties_without_toyota_before_2016.filter(like='importance', axis=1)\n",
    "# 60代の人が当時トヨタ以外を買った時に重視した点（MA）\n",
    "sixties_importance_without_toyota_before_2016.sum().plot.bar()\n",
    "# 60代の人が当時トヨタ以外を買った時に重視した点（MA）の合計"
   ]
  },
  {
   "cell_type": "markdown",
   "metadata": {},
   "source": [
    "40代以上で、トヨタと他社を比べて、トヨタを選んだ時の期待したこと"
   ]
  },
  {
   "cell_type": "code",
   "execution_count": null,
   "metadata": {},
   "outputs": [],
   "source": [
    "posses_toyota = df3[df3['maker_name_x'] == 'トヨタ']\n",
    "# おそらく現保有車のメーカー名のカラム名＝maker_name_x、トヨタに対応する回答番号"
   ]
  },
  {
   "cell_type": "code",
   "execution_count": null,
   "metadata": {},
   "outputs": [],
   "source": []
  }
 ],
 "metadata": {
  "kernelspec": {
   "display_name": "Python 3",
   "language": "python",
   "name": "python3"
  },
  "language_info": {
   "codemirror_mode": {
    "name": "ipython",
    "version": 3
   },
   "file_extension": ".py",
   "mimetype": "text/x-python",
   "name": "python",
   "nbconvert_exporter": "python",
   "pygments_lexer": "ipython3",
   "version": "3.10.8"
  },
  "orig_nbformat": 4
 },
 "nbformat": 4,
 "nbformat_minor": 2
}
